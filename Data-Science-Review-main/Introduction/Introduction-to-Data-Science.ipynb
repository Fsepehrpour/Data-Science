{
 "cells": [
  {
   "cell_type": "markdown",
   "id": "79caecb7-8e68-4618-8fe9-1c0f75579a1c",
   "metadata": {},
   "source": [
    "### Defining Data Science and What Data Science Do"
   ]
  },
  {
   "cell_type": "markdown",
   "id": "251568e5-b753-4e8b-822b-bfbf7348c3a5",
   "metadata": {},
   "source": [
    "Data Science is a process, not an event. It is the process of using data to understand different things, to understand the world. \n",
    "\n",
    "When you have a model or hypothesis of a problem, and you try to validate that hypothesis or model with your data. \n",
    "\n",
    "Data science is the art of uncovering the insights and trends that are hiding behind data. \n",
    "\n",
    "When you translate data into story, use storytelling to generates insight. And with this. Insights you can make strategic choices for a company or an institution."
   ]
  },
  {
   "cell_type": "markdown",
   "id": "fa2f04a7-1a56-4af4-99b2-81183f895346",
   "metadata": {},
   "source": [
    "**Data Science** is the field of exploring, manipulating, and analyzing data, and using data to answer questions or make recommendations. \n",
    "\n",
    "**Data Science** has a significant data analysis component. \n",
    "Data analysis is not new. What is new is the vast quantity of data available from massively varied sources. \n",
    "\n",
    "**Data Science** can help organizations: \n",
    "* Understand their environments \n",
    "* Analyze existing issues \n",
    "* Reveal previously hidden opportunities \n"
   ]
  },
  {
   "cell_type": "markdown",
   "id": "3f916bf1-2bc1-4362-aa2a-f9a28f44ddcb",
   "metadata": {},
   "source": [
    "Data scientists use data analysis to add to the knowledge of the organization by investigating data, exploring the best way to use it to provide value to the business. \n",
    "\n",
    "**The process of Data Science**: \n",
    "\n",
    "* Focus on a specific problem → clarify he questions that the organization wants to answer.\n",
    "\n",
    "Good data scientists are curious people who asks questions to clarify the business need. \n",
    "\n",
    "The next questions are: \n",
    "* “what data do we need to solve the problem?”\n",
    "* “where will that data come from?”\n",
    "\n",
    "Data scientists can analyze structured and unstructured data from many sources, and depending on the nature of the problem, they can choose to analyze the data in different ways."
   ]
  },
  {
   "cell_type": "markdown",
   "id": "5811dcc9-e0e6-4ae9-93e0-07adc54ea02d",
   "metadata": {},
   "source": [
    "**Data Science is changing**:\n",
    "\n",
    "* The way we work \n",
    "* The way we use data \n",
    "* Our approach to the world \n",
    "\n",
    "**Data Science** didn’t exist until 2009, 2011. \n",
    "Someone like _Dj Patil_ or _Andrew Gelman_ coined the term. Before that there was statistics. \n",
    "\n",
    "An advice to an aspiring data scientist is to be curious, extremely argumentative and judgmental. \n",
    "\n",
    "If you are not **curious**, you would not to know what to do with the data. \n",
    "**Judgmental** because if you do not have preconceived notions about things, you wouldn’t know where to begin. \n",
    "**Argumentative** because if you can argument and if you can plead a case, at least you can start somewhere and then you learn from data and then you modify your assumptions and hypothesis and your data would help you learn.\n",
    "\n",
    "* **Curiosity**\n",
    "* **Being able to take a strong position** \n",
    "* **And then moving forward with it**\n",
    "\n",
    "**What else you need**: some comfort and flexibility with analytics platforms "
   ]
  },
  {
   "cell_type": "markdown",
   "id": "5e961744-3204-4caa-b084-15087a049ad5",
   "metadata": {},
   "source": [
    "**Last**: the ability to tell a story. Once you have your analytics, once you have your tabulations, you should be able to tell a great story. \n",
    "\n",
    "Your rise to prominence is pretty much relying on our ability to tell great stories. \n",
    "\n",
    "**Starting point** → see what your competitive advantages is. \n",
    "Do you want to be a data scientist in any field or a specific field? Tourism \n",
    "\n",
    "\n",
    "Your competitive advantage is your understanding of some aspects of life where you exceed beyond others in understanding that. \n",
    "\n",
    "Once you figured out where your expertise lies, then you start acquiring analytical skills. \n",
    "What platforms to learn. \n",
    "\n",
    "In fact, the firms are searching for well-rounded individuals who possess the **subject matter expertise**, some experience in **software programming** and **analytics**, and **exceptional communication skills**."
   ]
  },
  {
   "cell_type": "markdown",
   "id": "70b17b8b-7078-49f5-ace7-37ef83ac561f",
   "metadata": {},
   "source": [
    "The size of the digital universe was roughly **130 billion** gigabytes in 1995.\n",
    "By 2020, this number will swell to **40 trillion** gigabytes.\n",
    "The opportunity to benefit from learning about our behaviors is more so now than ever before. \n",
    "\n",
    "**What Do Data Scientists Do?**\n",
    "\n",
    "All organizations ultimately use data science for the same reason: **to discover optimum solutions to existing problems.**\n",
    "\n",
    "\n",
    "**How do you get a better solution that is efficient?** → \n",
    "\n",
    "* You must identify the problem and establish a clear understanding of it. \n",
    "* Gather the data for analysis \n",
    "* Identify the right tools to use \n",
    "* Develop a data strategy \n",
    "* Case studies are also helpful in customizing a potential solution\n",
    "\n",
    "\n",
    "Once these conditions exist and available data is extracted, you can develop a **machine learning model**"
   ]
  },
  {
   "cell_type": "markdown",
   "id": "1eaecd29-5e72-4398-a420-a4554337c748",
   "metadata": {},
   "source": [
    "**Structured data** → Tabular data \n",
    "**Unstructured data** → it is not in rows and columns, it’s sometimes text, video and audio\n",
    "\n",
    "**Regression**: if you have ever taken a cab ride, a taxi ride, you understand regression. The moment you sit in a cab, you see that there is a fixed amount there. It say’s 2.50$. This is what you owe to the driver the moment you step into a cab. You have to pay the amount if you have stepped into the cab. \n",
    "Then as it starts moving for every meter or hundred meter the fare increases by certain amount. So there is a fraction, there is a relationship between distance and the amount you would pay above and beyond that constant.  \n",
    "And if you’re not moving and you’re stuck in traffic, then every additional minute you have to pay more. \n",
    "As minutes increase, you fare increases. \n",
    "As distance increases, your fare increases. \n",
    "And while all this is happening, you’ve already paid a base fare which is the constant. \n",
    "**Regression** tells you what the base fare is and what is the relationship between time and the fare you have paid, and the distance you have traveled and the fare you’ve paid. "
   ]
  },
  {
   "cell_type": "markdown",
   "id": "8d0909e9-48cd-43f8-92c6-01a4cc858c5c",
   "metadata": {},
   "source": [
    "**Cloud**: makes you able to take your data and your information and put it in the Cloud, put it in the central storage system. It allows you to bypass the physical limitations of the computers and the systems you’re using and it allows you to deploy the analytics and storage capacities of advanced machines that do not necessarily have to be your machine or your company’s machine.\n",
    "\n",
    "**Cloud** allows you not just store large amount of data on servers somewhere in California or Nevada, but it also allows you to deploy very advanced computer algorithms and the ability to do high performance computing using machines that are not yours. \n",
    "\n",
    "**Cloud** allows multiple entities to work with same data at the same time.  \n",
    "\n",
    "Using **Cloud** enables you to get instant access to open source technologies like **_Apache Spark_** without the need to install and configure them locally. \n",
    "\n",
    "Using **Cloud** also gives you access to the most up-to-date tools and libraries without the worry of maintaining them and ensuring that they are up-to-date.\n",
    "\n",
    "Some big tech companies offer cloud platforms: \n",
    "* IBM → offers IMB cloud \n",
    "* AMAZON → offers Amazon Web Services or AWS\n",
    "* GOOGLE → offers Google Cloud Platforms"
   ]
  },
  {
   "cell_type": "markdown",
   "id": "2197f271-55fc-43db-a710-a2a5fce09137",
   "metadata": {},
   "source": [
    "IBM also provides **_Skills Networks Labs_** or **_SN Labs_** to learners registered at any of the learning portals on the IBM Developer Skills Network where you have access to tools like Jupyter Notebooks and Spark clusters so you can create your own data science project and develop solutions.\n",
    "\n",
    "**Data Scientist**: someone who finds solutions to problems by analyzing Big or small data using appropriate tools and then tells stories to communicate her findings to the relevant stakeholders.\n",
    "\n",
    "As long as one has curious mind, fluency in analytics, and the ability to communicate the findings, I consider the person as a data scientist.\n",
    "\n",
    "_Dr. Granville_ defines a data scientist as one who can easily process a So-million-row data set in a couple of hours, and who distrusts statistical models. \n",
    "Yet he list **algebra**, **calculus**, and **training in probability and statistics** as necessary background to understand **data science**. \n",
    "\n",
    "_Dr. Patil_: a data scientist is that unique blend of skills that can both unlock the insights of data and tell a fantastic story via data. "
   ]
  },
  {
   "cell_type": "markdown",
   "id": "a7dd3e41-c3cc-4a9a-b20f-c3d2a07b329b",
   "metadata": {},
   "source": [
    "#### Big Data & Data Mining: \n",
    "\n",
    "\n",
    "_Erns & Young_ offers the following definition: “**Big Data** refers to the dynamic, large and disparate volumes of data being created by people, tools and machines. It requires new, innovative and scalable technology to collect, host, and analytically process the vast amount of data gathered in order to derive real-time business insights that relate to consumers, risks, profit, performance, productivity management and enhanced shareholder value.”"
   ]
  },
  {
   "cell_type": "markdown",
   "id": "a3f5b202-c9bb-47b5-97d8-d4808ae25f8e",
   "metadata": {},
   "source": [
    "There is no one definition of **Big Data** but there are certain elements that are common across the different definitions such as velocity, volume, variety, veracity and value. \n",
    "\n",
    "\n",
    "\n",
    "\n",
    "\n",
    "### V’s of BIG DATA\n",
    "![](./Images/Vs-of-big-data.png)"
   ]
  },
  {
   "cell_type": "markdown",
   "id": "cba4b252-d306-40a5-a192-6868b74f9f31",
   "metadata": {},
   "source": [
    "**Velocity**: the speed at which data accumulates. \n",
    "**Volume**: the scale of the data, or the increase in the amount of data stored. \n",
    "drivers of volume: increase in data sources, higher resolution sensors, scalable infrastructure \n",
    "**Variety**: the diversity of the data – variety reflects also that data comes from different sources, machines, people and processes both internal and external to organizations. \n",
    "drivers of variety: mobile technologies, social media, wearable technology, Geo technologies, videos, … \n",
    "**Veracity**: quality and origin of data, and its conformity to facts and accuracy. \n",
    "attributes: consistency, completeness, integrity, ambiguity\n",
    "drivers: cost, need for traceability \n",
    "**Value**: ability and need to turn data into value. \n",
    "value isn’t just profit. It may have medical or social benefits as well as costumer, employee, or personal satisfaction. \n",
    "\n",
    "The main reason that people invest time to understand Big Data is to derive value from it. "
   ]
  },
  {
   "cell_type": "markdown",
   "id": "3578aef9-05e0-4dd1-8ff3-7031a0a1a31e",
   "metadata": {},
   "source": [
    "How does data science differ from traditional subjects like statistics? \n",
    "Most of the components of data science have been around for many decades. But they are coming together now with some new nuances. At the bottom of data science you see **_probability_** and **_statistics_**, you see **_algebra_**, **_linear algebra_**, you see **_programming_**, and you see **_data bases_**. They’ve all been here. But what’s happened now is we have now the computational capabilities to apply some new techniques – machine learning.\n",
    "\n"
   ]
  },
  {
   "cell_type": "markdown",
   "id": "828b12e8-783b-47aa-a71b-81bc2c7d891c",
   "metadata": {},
   "source": [
    "Where now we can take really large data sets and instead of taking a sample and trying to test some hypothesis, we can take really large data sets and look for patterns. And so back off one level from hypothesis testing to defining patterns that maybe will generate hypotheses. \n",
    "\n",
    "Now this can bother some very traditional statisticians and gets them really annoyed sometimes, that you know you’re supposed to have hypothesis that is not that is independent of the data and then you test it. "
   ]
  },
  {
   "cell_type": "markdown",
   "id": "afdb38d1-0e85-45a1-b66a-a9c50208044c",
   "metadata": {},
   "source": [
    "**What is Hadoop?**\n",
    "an open-source software framework designed for distributed storage and processing of large sets of data using a network of computers.(ChatGPT)\n"
   ]
  },
  {
   "cell_type": "markdown",
   "id": "7a545eff-07fb-4d0f-a57d-be9623d68e5f",
   "metadata": {},
   "source": [
    "_What is data science?_ We certainly know the components of it. But it’s morphing and changing and growing. I mean the last three years **Deep learning** has just been added to the mix. **Neural Networks** have been around for 20 or 30 years. \n",
    "\n",
    "**How Big Data is driving digital transformation?** \n",
    "\n",
    "Digital transformation affects business operations, updating existing processes and operations, and creating new ones to harness the benefits of new technologies. \n",
    "\n",
    "\n",
    "It is an organizational and cultural change driven by data science, and especially Big Data. \n",
    "The availability of vast amount of data, and the competitive advantage that analyzing it brings, has triggered digital transformations throughout many industries. \n",
    "\n",
    "\n",
    "The support of **Chief Executive Officer** is crucial to the digital transformation process. \n",
    "As if the support of **Chief Information Officer** \n",
    "And the emerging role of **Chief Data Officer**. \n",
    "\n",
    "But they also require support from the **executives** who control **budgets**, **personnel** decisions, and **day-to-day priorities**.\n",
    "\n",
    "This is a whole organization process. \n",
    "\n",
    "![](./Images/DigitalTransformationProcess.png)"
   ]
  },
  {
   "cell_type": "markdown",
   "id": "07523d30-ef1f-48a0-8531-26ce50335f57",
   "metadata": {},
   "source": [
    "#### Data Science Skills & Big Data: \n",
    "\n",
    "**Are Data science skills becoming more important in work place?** \n",
    "Data Science and business analytics have become very hot subjects in last 4 or 5 years. \n",
    "We have new tools, we have new approaches and we have lots of data that traditional techniques just couldn’t really store and handle. \n",
    "\n",
    "**What is Big Data?**\n",
    "It depends on who you are. My definition is the data that is large enough and has enough volume and velocity that you cannot handle it with traditional database systems. \n",
    "Big data, to me, was started by Google. When Google tried to figure out how they were, when Larry Page and Sergey Brin wanted to, basically, figure out how to solve their page rank algorithm, there was nothing out there. They were trying to store all of the web pages in the world. And there was no technology, there was no way to do this, and so they went out and developed this approach, which is now become Hadoop has copied it. \n",
    "But **Big Data** has now also expanded into, how do you analyze? There are new analytical techniques and statistical techniques for handling these really large datasets. We’ll probably get to **Deep Learning** at some point along here."
   ]
  },
  {
   "cell_type": "markdown",
   "id": "199b505d-935b-4d52-9629-77a3016c3dd1",
   "metadata": {},
   "source": [
    "**Establishing Data Mining Goals:** \n",
    "\n",
    "**1st step** in data mining: set up goals for the exercise \n",
    "Identify the key questions that need to be answered. \n",
    "Going beyond identifying key questions are the concerns about the costs and benefits of the exercise. \n",
    "**2nd step:** determine the expected level of accuracy and usefulness of the results obtained from data mining. \n",
    "If money were no object, you could throw as many funds as necessary to get the answers required. \n",
    "However the cost-benefit-tradeoff is always instrumental in determining the goals and the scope of determining data exercise. \n",
    "The level of accuracy expected from the results also influences the costs. \n",
    "High levels of accuracy from data mining would cost more and vice versa. \n",
    "Beyond a certain level of accuracy, you do not gain much from the exercise, given the diminishing returns. \n",
    "Thus, the cost-benefit tradeoffs for the desired level of accuracy are important considerations for data mining goals. "
   ]
  },
  {
   "cell_type": "markdown",
   "id": "6a0289f0-f3d7-4d8f-a4ca-21e913eb5205",
   "metadata": {},
   "source": [
    "**Selecting Data:** \n",
    "\n",
    "The output of data mining exercise largely depends upon the quality of data being used. \n",
    "The type of data, its size and frequency of collection have a direct bearing on the cost of data mining exercise. \n",
    "Therefore, identifying the right kind of data needed for data mining that could answer the questions at reasonable costs is critical.\n",
    "\n",
    "**Processing Data:**\n",
    "An important step in data mining. \n",
    "In the processing data stage, you identify the irrelevant attributes of data and expunge such attributes from further considerations. \n",
    "At the same time identifying the erroneous aspects of the data set and flagging them as such is necessary. \n",
    "Data should be subject to checks to ensure integrity. \n",
    "Lastly, you must develop a formal method of dealing with missing data and determine wether the data are missing randomly or systematically.\n",
    "\n",
    "**Transforming Data:** \n",
    "After the relevant attributes of data have been retained, the next step is to determine the appropriate format in which data must be restored. \n",
    "An important consideration in data mining is **to reduce the number of attributes needed to explain the phenomenon**. \n",
    "This may require transforming data **Data Reduction Algorithms**, such as Principle Component Analysis, can reduce attributes without a significant loss in information. \n",
    "In addition, variables may need to be transformed to help explain the phenomenon being studied.\n",
    "\n",
    "**Sorting Data**: \n",
    "The transformed data must be stored in a format that makes it conducive for data mining.\n",
    "Data safety and privacy should be a prime concern for storing data.\n",
    "\n",
    "\n",
    "**Mining Data**: \n",
    "After data is appropriately processed, transformed, and stored, it is subject to data mining.\n",
    "This step covers data analysis methods, including parametric and non-parametric methods, and machine-learning algorithms.\n",
    "A good starting point for data mining is data visualization.\n",
    "\n",
    "**Evaluating Mining Results**: \n",
    "After results have been extracted from data mining, you do a formal evaluation of the results.\n",
    "Formal evaluation could include testing the predictive capabilities of the models on observed data to see how effective and efficient the algorithms have been in reproducing data.\n",
    "This is known as an \"in-sample forecast\"."
   ]
  },
  {
   "cell_type": "markdown",
   "id": "99339386-83b0-43e1-864b-7b7e0c115c32",
   "metadata": {},
   "source": [
    "#### Deep Learning & Machine Learning: \n",
    "\n",
    "What is the difference? \n",
    "\n",
    "**Data Mining** is the process of automatically searching and analyzing data, discovering previously unrevealed patterns. It involves pre-processing data to prepare it and transforming it into an appropriate format. \n",
    "Once data mining is done, insights and patterns are mined and extracted using various tools and techniques ranging from data visualization tools to machine learning and statistical models.\n",
    "\n",
    "**Machine Learning** is a subset of **AI** that uses computer algorithms to analyze data and make intelligent decisions based on what it is learned, <u>without being explicitly programmed</u>. \n",
    "\n",
    "Machine learning algorithms are trained with large sets of data and they learn from examples. \n",
    "They do not follow rules-based algorithms.\n",
    "\n",
    "Machine learning is what enables machines <u>to solve problems on their own and make accurate predictions</u> using the provided data. \n",
    "\n",
    "**Deep Learning** is a specialized subset of machine learning that uses layered neural networks <u>to simulate human decision-making</u>. \n",
    "Deep learning algorithms can <u>label</u> and <u>categorize</u> information and identify patterns. \n",
    "It is what enables AI systems to continuously learn on the job and improve the quality and accuracy of the results by determining whether decisions were correct. \n",
    "\n",
    "**Artificial Neural Networks** often referred to simply as neural networks, take inspiration from biological neural networks, although they work quite a bit differently. \n",
    "\n",
    "\n",
    "A **Neural Network** in AI is <u>a collection of small computing units</u> called **neurons** that take incoming data and learn to make decisions over time. \n",
    "Neural Networks are often layer-deep and are the reason deep learning algorithms become more efficient as the data sets increase in volume, as opposed to other machine learning algorithms that may plateau as data increases. \n",
    "\n",
    "![](./Images/NeuralNetwork.png)"
   ]
  },
  {
   "cell_type": "markdown",
   "id": "f165b80b-3b5b-42b8-ad88-c5452907be04",
   "metadata": {},
   "source": [
    "![](./Images/DifferenceinKeyAIConcepts.png)"
   ]
  },
  {
   "cell_type": "markdown",
   "id": "fbbae901-5c56-40fa-a3df-475c73d87f53",
   "metadata": {},
   "source": [
    "![](./Images/ArtificialIntelligenceandDataScience.png)"
   ]
  },
  {
   "cell_type": "markdown",
   "id": "a310fed0-622f-4f98-a29f-76e9a4973c2a",
   "metadata": {},
   "source": [
    "**Neural Network & Deep Learning**\n",
    "\n",
    "Computer sciences attempt to mimic real, the neurons, in how our brain actually functions.\n",
    "\n",
    "\n",
    "<u>How does a neural network work?</u>\n",
    "A neural network is trying to use computer, a computer program that will mimic how neurons, how our brain use neurons to process thing, neurons and synapses, and building these complex networks that can be trained. \n",
    "\n",
    "So, these neural networks start out with some inputs and some outputs, and you keep feeding these inputs into try to see what kinds of transformations will get to these outputs. And you keep doing this over and over in a way that this network should converge. \n",
    "So, these inputs, the transformations, will eventually get these outputs."
   ]
  },
  {
   "cell_type": "markdown",
   "id": "fc3b0eb1-7c74-4736-8a52-09db8f5fe08d",
   "metadata": {},
   "source": [
    "Neural networks and deep learning can now recognize speech, recognize people, getting your face recognized. \n",
    "\n",
    "<u>What are some of the use cases of deep learning? </u>\n",
    "* speech recognition \n",
    "*  people recognition \n",
    "* image recognition \n",
    "* image classification "
   ]
  },
  {
   "cell_type": "markdown",
   "id": "1e8fa1e7-527d-43d1-aab9-026aec3d09d1",
   "metadata": {},
   "source": [
    "Deep learning will learn on its own. The difference between a cat and a dog, and different kinds of objects. It doesn’t have to be taught. \n",
    "\n",
    "<u>How can one get started with neural networks? </u>\n",
    "You need to learn some **linear algebra** and **matrix**. \n",
    "you need to know how to do use linear algebra do transformations."
   ]
  },
  {
   "cell_type": "markdown",
   "id": "0c61023e-cd4d-4cd9-b21b-cb0b51f4bf62",
   "metadata": {},
   "source": [
    "**Applications of Machine Learning**\n",
    "\n",
    "<u>Recommender Systems</u> are one of the major applications of machine learning \n",
    "\n",
    "<u>Classifications</u> \n",
    "\n",
    "<u>Cluster Analysis</u>\n",
    "\n",
    "<u>Market Basket Analysis</u> \n",
    "\n",
    "<u>Predictive Analysis</u>\n",
    "\n",
    "<u>Decision Trees</u> \n",
    "\n",
    "<u>Bayesian Analysis</u> \n",
    "\n",
    "<u>Naive Bayes</u>\n",
    "\n"
   ]
  },
  {
   "cell_type": "markdown",
   "id": "bf199336-77b5-4832-a692-3bfc7d2550bd",
   "metadata": {},
   "source": [
    "In packages like R → you really have to understand how these techniques can be used, and you don’t have to know exactly how to do them, but you have to understand what their meanings are. \n",
    "Precision versus recall\n",
    "\n",
    "**Data Engineer**: Some applications of machine learning in fintech (financial technology): \n",
    "* Recommendations: when you use Netflix or Facebook. Hey user you have watched this show, so maybe you’d like to see this other show. This is the same in fintech, because you looked at this investment idea, it might be really cool for you to look at this other investment idea. \n",
    "* fraud detection in retail aspects of banking "
   ]
  },
  {
   "cell_type": "markdown",
   "id": "5536a77f-8c50-47cf-888a-96b65cfddcff",
   "metadata": {},
   "source": [
    "<u>**Regression**</u>\n",
    "\n",
    "**Regression** is a statistical method attempts to determine the strength and character of the relationship between one <u>dependent variable</u> and series of other variables (known as <u>independent variables</u>).\n",
    "\n",
    "Todays the workhorse of statistical analysis is <u>regression models</u>."
   ]
  },
  {
   "cell_type": "markdown",
   "id": "0a3c7789-0e66-47b7-9fe2-2b564ed08646",
   "metadata": {},
   "source": [
    "In almost all empirical pursuits of research, either in the academic or professional fields, the use of regression models, or the variants is ubiquitous. \n",
    "\n",
    "In the business world, regression models are at the forefront of analyzing <u>consumer behavior, firm productivity</u>, and <u>competitiveness of public and private sector</u>. \n",
    "\n",
    "In medical science regression models are being used to develop more effective medicines, improve the methods for operations, and optimize resources for small and large hospitals.  \n",
    "\n",
    "**Why Regress?**\n",
    "\n",
    "A whole host of questions could be put to regression analysis. Some examples of questions that regression (hedonic) models could address include: \n",
    "\n",
    "* How much more can a house sell for an additional bedroom? \n",
    "* What is the impact of lot size on housing price?\n",
    "* Do homes with brick exteriors sell for less than homes with stone exteriors? \n",
    "* How much does a finished basement contribute to the price of housing unit? \n",
    "* Do houses located near-high voltage power lines sell for more or less than the rest? \n",
    "\n"
   ]
  },
  {
   "cell_type": "markdown",
   "id": "b0247385-02b5-47fd-9cd4-87e394aec803",
   "metadata": {},
   "source": [
    "Predictive analytics developed from: \n",
    "* Data Mining \n",
    "* Data Modeling \n",
    "* Statistics \n",
    "* Machine Learning \n",
    "\n",
    "How should companies get started in data science? \n",
    "* if businesses are unable to measure something, they are unable to improve it. \n",
    "* If they are unable to measure their costs, they are unable to reduce them. \n",
    "* If they are unable to measure their profits, they are unable to increase them. \n",
    "\n",
    "So the first thing that a company has to do is to **start recording information**. start capturing data. Data about costs, and the differentiate it by labor costs and material costs.\n",
    "How much it costs to sell one product and the total cost.\n",
    "And then you look at the revenue, where is your revenue coming from? \n",
    "Is 80% of your revenue coming from 20% of your costumers?\n",
    "\n",
    "Firs start **Capturing Data**\n",
    "Then you can apply algorithms and analytics to it. \n",
    "\n",
    "If you are capturing it. Archive it. Do not overwrite on your old data thinking you don’t need it anymore. **Data never gets old**. \n",
    "\n",
    "Data is always relevant even if it is 100 years old, 200 years old.\n",
    "\n",
    "Keep data, capture it, archive it, make sure nothing goes to waste. \n",
    "Make sure there is a <u>consistency</u>. So someone 20 years later trying to understand, should be able to do that.  Have proper documentation. \n",
    "\n",
    "Put the best practices for data archiving in place you start a business.\n",
    "\n",
    "**Garbage in, garbage out is a rule in any sort of analysis. GIGO:** the quality of output is determined by the quality of input. \n",
    "**RIRO**: rubbish in, rubbish out is an alternate wording."
   ]
  },
  {
   "cell_type": "markdown",
   "id": "5e6e175f-b4b8-4922-a831-987c50d89a8b",
   "metadata": {},
   "source": [
    "#### Applications of Data Science:\n",
    "\n",
    "Recommendation Engine → a common application of data science. \n",
    "\n",
    "How does a firm gain competitive advantage? **Know what people want before they do**.\n",
    "\n",
    "\n",
    "The ultimate purpose of analytics is to communicate findings to who might use these insights to formulate policy and strategy. \n",
    "\n",
    "Analytics summarize findings in tables and plots. \n",
    "The data scientist should then use the insights to build the narrative to communicate the findings. \n",
    "The final deliverable in academia is in the form of essays and reports, usually 1000 to 7000 words in length. \n",
    "\n",
    "In consulting and business, the final deliverable takes on different forms. \n",
    "It can be a small document of fewer than 1500 words illustrated with tables and plots, or it can be a comprehensive document comprising several-hundred pages. \n",
    "\n",
    "Large consulting firms, such as **McKinsey** and **Deloitte**. \n",
    "\n",
    "The initial planning and conceptualizing of the final deliverable is therefore extremely important for producing a compelling document. Embarking on analytics, without due consideration to the final deliverable, is likely to result in a poor-quality document where the analytics and narrative would struggle to blend.\n",
    "\n",
    "**How to become a Data Scientist**\n",
    "\n",
    "* The first skill you need is to know how to program – at least have some computational thinking \n",
    "* You need to know some algebra – at least up to analytics – geometry – calculus \n",
    "* Some basic probability \n",
    "* Some basic statistics – to understand the difference and different statistical distributions, \n",
    "* Database – one of the easiest places to start is relational databases which store lots and lots of our data so people can first walk before they can run. \n",
    "\n",
    "If you understand relational databases you can still just with that understanding, use big data clusters \n",
    "\n",
    "As you go further up in the field, then you have to know a lot of computer science theory and statistics, and probability, the intersection of them.\n",
    "\n",
    "Recruiting for Data Science: \n",
    "1. Curiosity \n",
    "2. Sense of humor \n",
    "3. Storytelling \n",
    "4. Technical Skills \n",
    "\n",
    "**Start learning Data bases:**\n",
    "\n",
    "**Start learning SQL** → Structured Query Language is a standardized programming language that is used to manage relational databases and perform various operations on the data in them. \n",
    "\n",
    "**Structure of the Report:** \n",
    "\n",
    "The structure of the report depends on the length of the document. \n",
    "A brief report is more to the point and presents a summary of key findings. \n",
    "\n",
    "\n",
    "The length of the report varies depend on the purpose of the report. \n",
    "\n",
    "<u>Brief reports</u> were drafted as commentaries on current trends and developments that attracted public or media attention.\n",
    "\n",
    "<u>Detailed and comprehensive reports</u> offered a critical review of the subject matter with extensive data analysis and commentary.\n",
    "Often, detailed reports collected new data or interviewed industry experts to answer the research questions."
   ]
  },
  {
   "cell_type": "markdown",
   "id": "ab7de202-ae94-4a1b-aa72-9bd830e6934f",
   "metadata": {},
   "source": [
    "**Deliverable prescribed format:**\n",
    "\n",
    "* Cover page → often to be missing \n",
    "* Table of contents \n",
    "* Executive summary \n",
    "* Detailed contents \n",
    "* Acknowledgment \n",
    "* References \n",
    "* Appendices (if needed) \n",
    "\n",
    "**The cover page** should include the <u>title of the report</u>, <u>names of authors</u>, their <u>affiliations</u>, and <u>contacts</u>, the <u>name of the institutional publisher</u> (if any), and the <u>date of publication</u>.\n",
    "\n",
    "**A table of contents** (ToC)\" is like a map needed for a trip never taken before.\n",
    "Never shy away from including a ToC, especially if your document, excluding cover page, table of contents, and references, is five or more pages in length.\n",
    "\n",
    "Even for a short document, I recommend an \"abstract\" or an **\"executive summary\"**.\n",
    "Nothing is more powerful than explaining the crux of your arguments in three paragraphs or less.\n",
    "\n",
    "An \"introductory section\" is always helpful in setting up the problem for the reader who might be new to the topic and who might need to be gently introduced to the subject matter before being immersed in intricate details.\n",
    "\n",
    "**Methodology**: In the \"methodology\" section, you introduce the research methods and data sources you used for the analysis.\n",
    "\n",
    "\n",
    "A good follow-up to the introductory section is a review of available relevant research on the subject matter.\n",
    "\n",
    "The length of the **literature review** section depends upon how contested the subject matter is.\n",
    "\n",
    "**Result section**: is where you present your empirical findings\n",
    "**Discussion section** is where you rely on the power of narrative to enable numbers to communicate your thesis to your readers. You refer the reader to the research question and the knowledge gaps you identified earlier. You highlight how your findings provide the ultimate missing piece to the puzzle."
   ]
  },
  {
   "cell_type": "markdown",
   "id": "667397e5-e565-423f-ba1b-bc0f3fa8ab99",
   "metadata": {},
   "source": [
    "* Cover page \n",
    "* Table of contents \n",
    "* Executive summary or Abstract \n",
    "* Methodology\n",
    "* Literature Review \n",
    "* Introductory section\n",
    "* Result section \n",
    "* Discussion section \n",
    "* Conclusion section \n",
    "* Housekeeping which includes: \n",
    "    1. Acknowledgment \n",
    "    2. References \n",
    "    3. Appendices"
   ]
  },
  {
   "cell_type": "markdown",
   "id": "75769983-969f-450c-8da9-06e9f701d48c",
   "metadata": {},
   "source": [
    "#### Extra Info: \n",
    "* Acquire data\n",
    "* Implement your modell \n",
    "* Provide interfaces \n",
    "\n",
    "#### Autophagy (an interesting word)\n",
    "Statistics -Math are basics in data science \n",
    "There are ovelaps between data analysis and data science \n",
    "\n",
    "**Data analyst** is more focused on <u>providing reports, perform ad-hoc analysis</u>, usually uses basic statistical models. \n",
    "\n",
    "**Data scientist** automates some steps of a certain process, the output is often an API, Machine learning, deep learning algorithms. \n"
   ]
  },
  {
   "cell_type": "markdown",
   "id": "43eb69c5-6ffe-45fb-a685-f2a867649571",
   "metadata": {},
   "source": [
    "**<span style=\"color: blue;\">End of Introduction ...</span>**"
   ]
  },
  {
   "cell_type": "code",
   "execution_count": null,
   "id": "f670b27c-22ca-4c4e-bb5b-6bb7b7ca249f",
   "metadata": {},
   "outputs": [],
   "source": []
  }
 ],
 "metadata": {
  "kernelspec": {
   "display_name": "Python 3 (ipykernel)",
   "language": "python",
   "name": "python3"
  },
  "language_info": {
   "codemirror_mode": {
    "name": "ipython",
    "version": 3
   },
   "file_extension": ".py",
   "mimetype": "text/x-python",
   "name": "python",
   "nbconvert_exporter": "python",
   "pygments_lexer": "ipython3",
   "version": "3.10.9"
  }
 },
 "nbformat": 4,
 "nbformat_minor": 5
}
