{
 "cells": [
  {
   "cell_type": "markdown",
   "metadata": {},
   "source": [
    "# Data Analysis with Python\n",
    "\n",
    "---\n",
    "\n",
    "Data Analysis/Data Science helps us answer questions from data.\n",
    "\n",
    "**Data Analysis** plays an important role:\n",
    "* Discover useful information\n",
    "* Answering questions\n",
    "* Predicting future or the unknown\n",
    "\n",
    "\n",
    "### Python Packages for Data Science\n",
    "\n",
    "\n",
    "A python package is a collection of **functions** and **methods** that allow you to perform lots of actions without writing any code.\n",
    "\n",
    "The libraries usually contain built-in modules providing different functionalities which you can use directly.\n",
    "\n",
    "\n",
    "#### Three groups of Python data analysis libraries:\n",
    "\n",
    "1.\t**Scientific Computing Libraries**\n",
    "    a.\t**Pandas** → data structure and tools (provides facts, access to structured data). The primary instrument of Pandas is the two-dimensional table consisting of column and row labels, which are called a data frame. It is designed to provide easy indexing functionality.\n",
    "    b.\t**Numpy** → using arrays for its inputs and outputs. It can be extended to objects for matrices and with minor coding changes developers can perform fast array processing.\n",
    "    c.\t**Scipy** → functions for some math advanced problems as well as data visualization.\n",
    "\n",
    "2.\t**Visualization Libraries** are the best way to communicate with others, showing them meaningful result of an analysis to create graphs, charts and maps.\n",
    "    a.\t**Matplotlib** (the most well-known) → great for making graphs and plots\n",
    "    b.\t**Seaborn** → it is based on Matplotlib. Easy to generates varius plots such as heat maps, time series and violin plots.\n",
    "\n",
    "3.\t**Algorithmic Libraries** (machine learning algorithms): to develop a model using our dataset and obtain predictions\n",
    "    a.\t**Scikit-Learn** → contains tools statistical modeling including regression, classification, clustering, … this is built on Numpy, Scipy and Matplotlib\n",
    "    b.\t**Statsmodels** → to explore data, estimate statistical models and perform statistical tests.\n",
    "\n",
    "\n"
   ]
  },
  {
   "cell_type": "markdown",
   "metadata": {},
   "source": [
    "### Importing and Exporting Data in Python\n",
    "\n",
    "How to read any data using Python Pandas Package?\n",
    "\n",
    "Data acquisitions is a process of loading and reading data into notebook from various sources.\n",
    "To read any data using Python's Pandas package, there are two important factors to consider, _**format**_ and _**file path**_.\n",
    "\n",
    "**Format** is the way data is encoded.\n",
    "Some common encodings: .csv, .json, .xlsx, .hdf, …\n",
    "\n",
    "**Path** tells us where the data is stored.\n",
    "Usually, it is stored either on the computer we are using or online on the internet.\n",
    "\n",
    "Each row is one datapoint.\n",
    "Because the properties are separated from each other by commas, we can guess the data format is CSV, which stands for comma separated values.\n",
    "\n",
    "\n",
    "In Pandas the read-csv method can read in files with columns separated by commas into a Panda dataframe.\n"
   ]
  },
  {
   "cell_type": "markdown",
   "metadata": {},
   "source": [
    "Reading in Pandas can be done quickly in 3 lines:\n",
    "1.\tImport Pandas\n",
    "2.\tDefine a variable with a file path\n",
    "3.\tUse the read-csv method to import the data\n"
   ]
  },
  {
   "cell_type": "code",
   "execution_count": 3,
   "metadata": {},
   "outputs": [],
   "source": [
    "import pandas as pd\n",
    "url = \"https://cdn.wsform.com/wp-content/uploads/2020/06/industry.csv\"\n",
    "df = pd.read_csv(url)"
   ]
  },
  {
   "cell_type": "markdown",
   "metadata": {},
   "source": [
    "read_csv assume the data has a header.\n",
    "If our data contains no header, we need to specify read-csv not to assign headers by setting headers to none."
   ]
  },
  {
   "cell_type": "code",
   "execution_count": null,
   "metadata": {},
   "outputs": [],
   "source": [
    "# df = pd.read_csv(url, header=None)"
   ]
  },
  {
   "cell_type": "markdown",
   "metadata": {},
   "source": [
    "After reading the dataset, it is a good idea to look at the data frame to get a better intuition and to ensure that everything occurred the way you expected. Since printing the entire dataset may take up too much time and resources to save time, we can just use dataframe.head to show the first n rows of the data frame."
   ]
  },
  {
   "cell_type": "code",
   "execution_count": 4,
   "metadata": {},
   "outputs": [
    {
     "data": {
      "text/html": [
       "<div>\n",
       "<style scoped>\n",
       "    .dataframe tbody tr th:only-of-type {\n",
       "        vertical-align: middle;\n",
       "    }\n",
       "\n",
       "    .dataframe tbody tr th {\n",
       "        vertical-align: top;\n",
       "    }\n",
       "\n",
       "    .dataframe thead th {\n",
       "        text-align: right;\n",
       "    }\n",
       "</style>\n",
       "<table border=\"1\" class=\"dataframe\">\n",
       "  <thead>\n",
       "    <tr style=\"text-align: right;\">\n",
       "      <th></th>\n",
       "      <th>Industry</th>\n",
       "    </tr>\n",
       "  </thead>\n",
       "  <tbody>\n",
       "    <tr>\n",
       "      <th>0</th>\n",
       "      <td>Accounting/Finance</td>\n",
       "    </tr>\n",
       "    <tr>\n",
       "      <th>1</th>\n",
       "      <td>Advertising/Public Relations</td>\n",
       "    </tr>\n",
       "    <tr>\n",
       "      <th>2</th>\n",
       "      <td>Aerospace/Aviation</td>\n",
       "    </tr>\n",
       "    <tr>\n",
       "      <th>3</th>\n",
       "      <td>Arts/Entertainment/Publishing</td>\n",
       "    </tr>\n",
       "    <tr>\n",
       "      <th>4</th>\n",
       "      <td>Automotive</td>\n",
       "    </tr>\n",
       "  </tbody>\n",
       "</table>\n",
       "</div>"
      ],
      "text/plain": [
       "                        Industry\n",
       "0             Accounting/Finance\n",
       "1   Advertising/Public Relations\n",
       "2             Aerospace/Aviation\n",
       "3  Arts/Entertainment/Publishing\n",
       "4                     Automotive"
      ]
     },
     "execution_count": 4,
     "metadata": {},
     "output_type": "execute_result"
    }
   ],
   "source": [
    "df.head(5) # show the first 5 rows of data frame"
   ]
  },
  {
   "cell_type": "markdown",
   "metadata": {},
   "source": [
    "Similarly, ```dataframe.tail(n)``` shows the bottom n rows of data frame."
   ]
  },
  {
   "cell_type": "code",
   "execution_count": 5,
   "metadata": {},
   "outputs": [
    {
     "data": {
      "text/html": [
       "<div>\n",
       "<style scoped>\n",
       "    .dataframe tbody tr th:only-of-type {\n",
       "        vertical-align: middle;\n",
       "    }\n",
       "\n",
       "    .dataframe tbody tr th {\n",
       "        vertical-align: top;\n",
       "    }\n",
       "\n",
       "    .dataframe thead th {\n",
       "        text-align: right;\n",
       "    }\n",
       "</style>\n",
       "<table border=\"1\" class=\"dataframe\">\n",
       "  <thead>\n",
       "    <tr style=\"text-align: right;\">\n",
       "      <th></th>\n",
       "      <th>Industry</th>\n",
       "    </tr>\n",
       "  </thead>\n",
       "  <tbody>\n",
       "    <tr>\n",
       "      <th>38</th>\n",
       "      <td>Skilled Labor</td>\n",
       "    </tr>\n",
       "    <tr>\n",
       "      <th>39</th>\n",
       "      <td>Technology</td>\n",
       "    </tr>\n",
       "    <tr>\n",
       "      <th>40</th>\n",
       "      <td>Telecommunications</td>\n",
       "    </tr>\n",
       "    <tr>\n",
       "      <th>41</th>\n",
       "      <td>Transportation/Logistics</td>\n",
       "    </tr>\n",
       "    <tr>\n",
       "      <th>42</th>\n",
       "      <td>Other</td>\n",
       "    </tr>\n",
       "  </tbody>\n",
       "</table>\n",
       "</div>"
      ],
      "text/plain": [
       "                    Industry\n",
       "38             Skilled Labor\n",
       "39                Technology\n",
       "40        Telecommunications\n",
       "41  Transportation/Logistics\n",
       "42                     Other"
      ]
     },
     "execution_count": 5,
     "metadata": {},
     "output_type": "execute_result"
    }
   ],
   "source": [
    "df.tail(5)"
   ]
  },
  {
   "cell_type": "markdown",
   "metadata": {},
   "source": []
  },
  {
   "cell_type": "markdown",
   "metadata": {},
   "source": [
    "we can assign column names in pandas.\n",
    "1.\tput the column names in a list called headers,\n",
    "2.\tset df.columns equals headers to replace the default integer headers by the list.\n"
   ]
  },
  {
   "cell_type": "code",
   "execution_count": 8,
   "metadata": {},
   "outputs": [
    {
     "data": {
      "text/html": [
       "<div>\n",
       "<style scoped>\n",
       "    .dataframe tbody tr th:only-of-type {\n",
       "        vertical-align: middle;\n",
       "    }\n",
       "\n",
       "    .dataframe tbody tr th {\n",
       "        vertical-align: top;\n",
       "    }\n",
       "\n",
       "    .dataframe thead th {\n",
       "        text-align: right;\n",
       "    }\n",
       "</style>\n",
       "<table border=\"1\" class=\"dataframe\">\n",
       "  <thead>\n",
       "    <tr style=\"text-align: right;\">\n",
       "      <th></th>\n",
       "      <th>Industry Name</th>\n",
       "    </tr>\n",
       "  </thead>\n",
       "  <tbody>\n",
       "    <tr>\n",
       "      <th>0</th>\n",
       "      <td>Accounting/Finance</td>\n",
       "    </tr>\n",
       "    <tr>\n",
       "      <th>1</th>\n",
       "      <td>Advertising/Public Relations</td>\n",
       "    </tr>\n",
       "    <tr>\n",
       "      <th>2</th>\n",
       "      <td>Aerospace/Aviation</td>\n",
       "    </tr>\n",
       "    <tr>\n",
       "      <th>3</th>\n",
       "      <td>Arts/Entertainment/Publishing</td>\n",
       "    </tr>\n",
       "    <tr>\n",
       "      <th>4</th>\n",
       "      <td>Automotive</td>\n",
       "    </tr>\n",
       "  </tbody>\n",
       "</table>\n",
       "</div>"
      ],
      "text/plain": [
       "                   Industry Name\n",
       "0             Accounting/Finance\n",
       "1   Advertising/Public Relations\n",
       "2             Aerospace/Aviation\n",
       "3  Arts/Entertainment/Publishing\n",
       "4                     Automotive"
      ]
     },
     "execution_count": 8,
     "metadata": {},
     "output_type": "execute_result"
    }
   ],
   "source": [
    "headers = ['Industry Name']\n",
    "df.columns = headers\n",
    "df.head(5)"
   ]
  },
  {
   "cell_type": "markdown",
   "metadata": {},
   "source": [
    "At some point in time, after you've done operations on your dataframe you may want to export your pandas dataframe to a new CSV file. You can do this using the method to_CSV. To do this, specify the file path which includes the file name that you want to write to. For example, if you would like to save dataframe df as automobile.CSV to your own computer, you can use the syntax df.to_CSV"
   ]
  },
  {
   "cell_type": "code",
   "execution_count": 9,
   "metadata": {},
   "outputs": [],
   "source": [
    "path = \"./automobile.csv\"\n",
    "df.to_csv(path)"
   ]
  },
  {
   "cell_type": "markdown",
   "metadata": {},
   "source": [
    "Pandas also supports importing and exporting of most data file types with different dataset formats.\n",
    "\n",
    "| Data Format | Read | Save |\n",
    "|----------|-----------------|--------------|\n",
    "| csv      | pd.read_csv()   | df.to_csv()  |\n",
    "| json     | pd.read_json()  | df.to_json() |\n",
    "| Excel    | pd.read_excel() | df.to_excel()|\n",
    "| sql      | pd.read_sql()   | df.to_sql()  |\n",
    "\n",
    "\n"
   ]
  },
  {
   "cell_type": "markdown",
   "metadata": {},
   "source": [
    "### Getting Started Analyzing in Python\n",
    "\n",
    "Understand your data before you begin.\n",
    "\n",
    "Should check:\n",
    "* Data Types\n",
    "* Data Distribution\n",
    "\n",
    "\n",
    "Locate potential issues with the data.\n",
    "\n",
    "Pandas has several built-in methods that can be used to understand the datatype or features or to look at the distribution of data within the dataset.\n",
    "\n",
    "Using these methods, gives an overview of the dataset and point out potential issues such as the wrong data type of features which may need to be resolved later.\n",
    "\n",
    "Data has a variety of types. The main types stored in **Pandas'** objects are **object**, **float**, **Int**, and **datetime**.\n",
    "The data type names are somewhat different from those in native Python.\n",
    "\n",
    "\n",
    "| Pandas Type | Native Python Type | Description |\n",
    "|-------------|--------------------|---------------------------------|\n",
    "| object      | string             | numbers and strings             |\n",
    "| int64       | int                | numeric characters              |\n",
    "| float64     | float              | numeric characters with decimals|\n",
    "| datetime64, timedalta[ns]        | N/A[but see the datetime module in Python's standard library]   | time data  |\n",
    "\n"
   ]
  },
  {
   "cell_type": "markdown",
   "metadata": {},
   "source": [
    "While the datetime Pandas type, is a very useful type for handling time series data.\n",
    "\n",
    "There are two reasons to check data types in a dataset. Pandas automatically assigns types based on the encoding it detects from the original data table. For several reasons, this assignment may be incorrect.\n",
    "\n",
    "1.\tPotential info and type mismatch\n",
    "2.\tCompatibility with python methods\n",
    "\n",
    "\n",
    "When the dtype method is applied to the data set, the data type of each column is returned in a series.\n",
    "In Pandas, we use ```dataframe.dtypes```to check data types."
   ]
  },
  {
   "cell_type": "code",
   "execution_count": 10,
   "metadata": {},
   "outputs": [
    {
     "data": {
      "text/html": [
       "<div>\n",
       "<style scoped>\n",
       "    .dataframe tbody tr th:only-of-type {\n",
       "        vertical-align: middle;\n",
       "    }\n",
       "\n",
       "    .dataframe tbody tr th {\n",
       "        vertical-align: top;\n",
       "    }\n",
       "\n",
       "    .dataframe thead th {\n",
       "        text-align: right;\n",
       "    }\n",
       "</style>\n",
       "<table border=\"1\" class=\"dataframe\">\n",
       "  <thead>\n",
       "    <tr style=\"text-align: right;\">\n",
       "      <th></th>\n",
       "      <th>Industry Name</th>\n",
       "    </tr>\n",
       "  </thead>\n",
       "  <tbody>\n",
       "    <tr>\n",
       "      <th>count</th>\n",
       "      <td>43</td>\n",
       "    </tr>\n",
       "    <tr>\n",
       "      <th>unique</th>\n",
       "      <td>43</td>\n",
       "    </tr>\n",
       "    <tr>\n",
       "      <th>top</th>\n",
       "      <td>Accounting/Finance</td>\n",
       "    </tr>\n",
       "    <tr>\n",
       "      <th>freq</th>\n",
       "      <td>1</td>\n",
       "    </tr>\n",
       "  </tbody>\n",
       "</table>\n",
       "</div>"
      ],
      "text/plain": [
       "             Industry Name\n",
       "count                   43\n",
       "unique                  43\n",
       "top     Accounting/Finance\n",
       "freq                     1"
      ]
     },
     "execution_count": 10,
     "metadata": {},
     "output_type": "execute_result"
    }
   ],
   "source": [
    "# Returns a statistical summary\n",
    "df.describe()"
   ]
  },
  {
   "cell_type": "markdown",
   "metadata": {},
   "source": [
    "To enable a summary of all the columns, we could add an argument.\n",
    "\n",
    "df.describe(include = \"all\")\n",
    "\n",
    " Now, the outcome shows the summary of all the columns, including object typed attributes. We see that for the object type columns, a different set of statistics is evaluated, like unique, top, and frequency. Unique is the number of distinct objects in the column. Top is most frequently occurring object, and freq is the number of times the top object appears in the column.\n"
   ]
  },
  {
   "cell_type": "code",
   "execution_count": 11,
   "metadata": {},
   "outputs": [
    {
     "data": {
      "text/html": [
       "<div>\n",
       "<style scoped>\n",
       "    .dataframe tbody tr th:only-of-type {\n",
       "        vertical-align: middle;\n",
       "    }\n",
       "\n",
       "    .dataframe tbody tr th {\n",
       "        vertical-align: top;\n",
       "    }\n",
       "\n",
       "    .dataframe thead th {\n",
       "        text-align: right;\n",
       "    }\n",
       "</style>\n",
       "<table border=\"1\" class=\"dataframe\">\n",
       "  <thead>\n",
       "    <tr style=\"text-align: right;\">\n",
       "      <th></th>\n",
       "      <th>Industry Name</th>\n",
       "    </tr>\n",
       "  </thead>\n",
       "  <tbody>\n",
       "    <tr>\n",
       "      <th>count</th>\n",
       "      <td>43</td>\n",
       "    </tr>\n",
       "    <tr>\n",
       "      <th>unique</th>\n",
       "      <td>43</td>\n",
       "    </tr>\n",
       "    <tr>\n",
       "      <th>top</th>\n",
       "      <td>Accounting/Finance</td>\n",
       "    </tr>\n",
       "    <tr>\n",
       "      <th>freq</th>\n",
       "      <td>1</td>\n",
       "    </tr>\n",
       "  </tbody>\n",
       "</table>\n",
       "</div>"
      ],
      "text/plain": [
       "             Industry Name\n",
       "count                   43\n",
       "unique                  43\n",
       "top     Accounting/Finance\n",
       "freq                     1"
      ]
     },
     "execution_count": 11,
     "metadata": {},
     "output_type": "execute_result"
    }
   ],
   "source": [
    "df.describe(include=\"all\")"
   ]
  },
  {
   "cell_type": "markdown",
   "metadata": {},
   "source": [
    "### Accessing Databases with Python\n",
    "\n",
    "DBMS → Database Management Systems are software systems used to store, retrieve, and run queries on data. A DBMS serves as an interface between an end-user and a database, allowing users to create, read, update, and delete data in the database.\n",
    "\n",
    "\n",
    "There is a mechanism by which the Python program communicates with the DBMS.\n",
    "\n",
    "The Python code connects to the database using API calls.\n",
    "\n",
    "**SQL APIs and Python DB APIs**.\n",
    "\n",
    "An application programming interface is a set of functions that you can call to get access to some type of service.\n",
    "\n",
    "The SQL API consists of library function calls as an application programming interface, API, for the DBMS.\n",
    "To pass SQL statements to the DBMS, an application program calls functions in the API, and it calls other functions to retrieve query results and status information from the DBMS.\n",
    "\n",
    "The basic operation of a typical SQL API is illustrated in the figure.\n",
    "![What is a SQL API?](./images/SQL-API.png)\n",
    "\n",
    "\n",
    "\n"
   ]
  },
  {
   "cell_type": "markdown",
   "metadata": {},
   "source": [
    "page 6 of the word file \"Data Analysis with Python\" Data Science Review"
   ]
  },
  {
   "cell_type": "code",
   "execution_count": null,
   "metadata": {},
   "outputs": [],
   "source": []
  }
 ],
 "metadata": {
  "kernelspec": {
   "display_name": "py11",
   "language": "python",
   "name": "python3"
  },
  "language_info": {
   "codemirror_mode": {
    "name": "ipython",
    "version": 3
   },
   "file_extension": ".py",
   "mimetype": "text/x-python",
   "name": "python",
   "nbconvert_exporter": "python",
   "pygments_lexer": "ipython3",
   "version": "3.11.10"
  }
 },
 "nbformat": 4,
 "nbformat_minor": 2
}
